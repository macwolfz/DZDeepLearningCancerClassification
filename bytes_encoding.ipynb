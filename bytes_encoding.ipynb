{
  "nbformat": 4,
  "nbformat_minor": 0,
  "metadata": {
    "colab": {
      "provenance": [],
      "authorship_tag": "ABX9TyO6pjzk8S6AIVtXj2v9mvxP",
      "include_colab_link": true
    },
    "kernelspec": {
      "name": "python3",
      "display_name": "Python 3"
    },
    "language_info": {
      "name": "python"
    }
  },
  "cells": [
    {
      "cell_type": "markdown",
      "metadata": {
        "id": "view-in-github",
        "colab_type": "text"
      },
      "source": [
        "<a href=\"https://colab.research.google.com/github/macwolfz/DZDeepLearningCancerClassification/blob/main/bytes_encoding.ipynb\" target=\"_parent\"><img src=\"https://colab.research.google.com/assets/colab-badge.svg\" alt=\"Open In Colab\"/></a>"
      ]
    },
    {
      "cell_type": "code",
      "execution_count": 1,
      "metadata": {
        "id": "E7S3DVM988Ko"
      },
      "outputs": [],
      "source": [
        "from PIL import Image\n",
        "import os\n",
        "\n",
        "# Decode PNG image to RGB pixels\n",
        "img = Image.open(\"pdf_encoded.png\")\n",
        "pixels = img.getdata()\n",
        "\n",
        "# Convert RGB pixels to bytes\n",
        "pdf_bytes = b\"\".join([bytes([pixel[0]]) for pixel in pixels])\n",
        "\n",
        "# Write bytes to PDF file\n",
        "with open(\"decoded.pdf\", \"wb\") as f:\n",
        "    f.write(pdf_bytes)\n"
      ]
    },
    {
      "cell_type": "code",
      "source": [
        "from PIL import Image\n",
        "import os\n",
        "\n",
        "# Encode PDF file as bytes\n",
        "with open(\"example.pdf\", \"rb\") as f:\n",
        "    pdf_bytes = f.read()\n",
        "\n",
        "# Convert bytes to RGB pixels\n",
        "pixels = []\n",
        "for i in range(0, len(pdf_bytes), 1024):\n",
        "    chunk = pdf_bytes[i:i+1024]\n",
        "    for b in chunk:\n",
        "        pixel_value = (b, 0, 0) # Use red channel only\n",
        "        pixels.append(pixel_value)\n",
        "\n",
        "# Create image from pixels\n",
        "img_size = (int(len(pixels) ** 0.5), int(len(pixels) ** 0.5))\n",
        "img = Image.new(\"RGB\", img_size)\n",
        "img.putdata(pixels)\n",
        "\n",
        "# Save image\n",
        "img.save(\"save/pdf_encoded.png\")\n",
        "\n",
        "# Decode RGB pixels to PDF file\n",
        "img = Image.open(\"save/pdf_encoded.png\")\n",
        "pixels = img.getdata()\n",
        "pdf_bytes = bytes([pixel[0] for pixel in pixels])\n",
        "with open(\"decoded.pdf\", \"wb\") as f:\n",
        "    f.write(pdf_bytes)"
      ],
      "metadata": {
        "colab": {
          "base_uri": "https://localhost:8080/",
          "height": 357
        },
        "id": "0Im0hqBO9FiL",
        "outputId": "3ed85bc7-8108-4063-cc34-b283f7ba5bf4"
      },
      "execution_count": 3,
      "outputs": [
        {
          "output_type": "error",
          "ename": "TypeError",
          "evalue": "ignored",
          "traceback": [
            "\u001b[0;31m---------------------------------------------------------------------------\u001b[0m",
            "\u001b[0;31mTypeError\u001b[0m                                 Traceback (most recent call last)",
            "\u001b[0;32m<ipython-input-3-6a4cbe94795e>\u001b[0m in \u001b[0;36m<cell line: 19>\u001b[0;34m()\u001b[0m\n\u001b[1;32m     17\u001b[0m \u001b[0mimg_size\u001b[0m \u001b[0;34m=\u001b[0m \u001b[0;34m(\u001b[0m\u001b[0mint\u001b[0m\u001b[0;34m(\u001b[0m\u001b[0mlen\u001b[0m\u001b[0;34m(\u001b[0m\u001b[0mpixels\u001b[0m\u001b[0;34m)\u001b[0m \u001b[0;34m**\u001b[0m \u001b[0;36m0.5\u001b[0m\u001b[0;34m)\u001b[0m\u001b[0;34m,\u001b[0m \u001b[0mint\u001b[0m\u001b[0;34m(\u001b[0m\u001b[0mlen\u001b[0m\u001b[0;34m(\u001b[0m\u001b[0mpixels\u001b[0m\u001b[0;34m)\u001b[0m \u001b[0;34m**\u001b[0m \u001b[0;36m0.5\u001b[0m\u001b[0;34m)\u001b[0m\u001b[0;34m)\u001b[0m\u001b[0;34m\u001b[0m\u001b[0;34m\u001b[0m\u001b[0m\n\u001b[1;32m     18\u001b[0m \u001b[0mimg\u001b[0m \u001b[0;34m=\u001b[0m \u001b[0mImage\u001b[0m\u001b[0;34m.\u001b[0m\u001b[0mnew\u001b[0m\u001b[0;34m(\u001b[0m\u001b[0;34m\"RGB\"\u001b[0m\u001b[0;34m,\u001b[0m \u001b[0mimg_size\u001b[0m\u001b[0;34m)\u001b[0m\u001b[0;34m\u001b[0m\u001b[0;34m\u001b[0m\u001b[0m\n\u001b[0;32m---> 19\u001b[0;31m \u001b[0mimg\u001b[0m\u001b[0;34m.\u001b[0m\u001b[0mputdata\u001b[0m\u001b[0;34m(\u001b[0m\u001b[0mpixels\u001b[0m\u001b[0;34m)\u001b[0m\u001b[0;34m\u001b[0m\u001b[0;34m\u001b[0m\u001b[0m\n\u001b[0m\u001b[1;32m     20\u001b[0m \u001b[0;34m\u001b[0m\u001b[0m\n\u001b[1;32m     21\u001b[0m \u001b[0;31m# Save image\u001b[0m\u001b[0;34m\u001b[0m\u001b[0;34m\u001b[0m\u001b[0m\n",
            "\u001b[0;32m/usr/local/lib/python3.9/dist-packages/PIL/Image.py\u001b[0m in \u001b[0;36mputdata\u001b[0;34m(self, data, scale, offset)\u001b[0m\n\u001b[1;32m   1749\u001b[0m         \u001b[0mself\u001b[0m\u001b[0;34m.\u001b[0m\u001b[0m_ensure_mutable\u001b[0m\u001b[0;34m(\u001b[0m\u001b[0;34m)\u001b[0m\u001b[0;34m\u001b[0m\u001b[0;34m\u001b[0m\u001b[0m\n\u001b[1;32m   1750\u001b[0m \u001b[0;34m\u001b[0m\u001b[0m\n\u001b[0;32m-> 1751\u001b[0;31m         \u001b[0mself\u001b[0m\u001b[0;34m.\u001b[0m\u001b[0mim\u001b[0m\u001b[0;34m.\u001b[0m\u001b[0mputdata\u001b[0m\u001b[0;34m(\u001b[0m\u001b[0mdata\u001b[0m\u001b[0;34m,\u001b[0m \u001b[0mscale\u001b[0m\u001b[0;34m,\u001b[0m \u001b[0moffset\u001b[0m\u001b[0;34m)\u001b[0m\u001b[0;34m\u001b[0m\u001b[0;34m\u001b[0m\u001b[0m\n\u001b[0m\u001b[1;32m   1752\u001b[0m \u001b[0;34m\u001b[0m\u001b[0m\n\u001b[1;32m   1753\u001b[0m     \u001b[0;32mdef\u001b[0m \u001b[0mputpalette\u001b[0m\u001b[0;34m(\u001b[0m\u001b[0mself\u001b[0m\u001b[0;34m,\u001b[0m \u001b[0mdata\u001b[0m\u001b[0;34m,\u001b[0m \u001b[0mrawmode\u001b[0m\u001b[0;34m=\u001b[0m\u001b[0;34m\"RGB\"\u001b[0m\u001b[0;34m)\u001b[0m\u001b[0;34m:\u001b[0m\u001b[0;34m\u001b[0m\u001b[0;34m\u001b[0m\u001b[0m\n",
            "\u001b[0;31mTypeError\u001b[0m: too many data entries"
          ]
        }
      ]
    },
    {
      "cell_type": "code",
      "source": [
        "#Funciona\n",
        "from PIL import Image\n",
        "import os\n",
        "\n",
        "# Encode PDF file as bytes\n",
        "with open(\"example.pdf\", \"rb\") as f:\n",
        "    pdf_bytes = f.read()\n",
        "\n",
        "# Convert bytes to RGB pixels\n",
        "pixels = []\n",
        "for i in range(0, len(pdf_bytes), 256):\n",
        "    chunk = pdf_bytes[i:i+256]\n",
        "    for b in chunk:\n",
        "        pixel_value = (b, 0, 0) # Use red channel only\n",
        "        pixels.append(pixel_value)\n",
        "\n",
        "# Calculate image size and create image from pixels\n",
        "n_pixels = len(pixels)\n",
        "img_width = int(n_pixels ** 0.5)\n",
        "img_height = int(n_pixels / img_width) + 1\n",
        "img_size = (img_width, img_height)\n",
        "img = Image.new(\"RGB\", img_size)\n",
        "img.putdata(pixels)\n",
        "\n",
        "# Save image\n",
        "img.save(\"save/pdf_encoded.png\")\n",
        "\n",
        "# Decode RGB pixels to PDF file\n",
        "img = Image.open(\"save/pdf_encoded.png\")\n",
        "pixels = img.getdata()\n",
        "pdf_bytes = bytes([pixel[0] for pixel in pixels])\n",
        "with open(\"decoded.pdf\", \"wb\") as f:\n",
        "    f.write(pdf_bytes)\n"
      ],
      "metadata": {
        "id": "XvJEnMZM9gla"
      },
      "execution_count": 1,
      "outputs": []
    },
    {
      "cell_type": "code",
      "source": [
        "from PIL import Image\n",
        "import os\n",
        "\n",
        "# Encode PDF file as bytes\n",
        "with open(\"asd.mp4\", \"rb\") as f:\n",
        "    pdf_bytes = f.read()\n",
        "\n",
        "# Convert bytes to RGB pixels\n",
        "pixels = []\n",
        "for i in range(0, len(pdf_bytes), 256):\n",
        "    chunk = pdf_bytes[i:i+256]\n",
        "    for b in chunk:\n",
        "        pixel_value = (b, 0, 0) # Use red channel only\n",
        "        pixels.append(pixel_value)\n",
        "\n",
        "# Calculate image size and create image from pixels\n",
        "n_pixels = len(pixels)\n",
        "img_width = int(n_pixels ** 0.5)\n",
        "img_height = int(n_pixels / img_width) + 1\n",
        "img_size = (img_width, img_height)\n",
        "img = Image.new(\"RGB\", img_size)\n",
        "img.putdata(pixels)\n",
        "\n",
        "# Save image\n",
        "img.save(\"save/pdf_encoded.png\")\n",
        "\n",
        "# Decode RGB pixels to PDF file\n",
        "img = Image.open(\"save/pdf_encoded.png\")\n",
        "pixels = img.getdata()\n",
        "pdf_bytes = bytes([pixel[0] for pixel in pixels])\n",
        "with open(\"decoded.mp4\", \"wb\") as f:\n",
        "    f.write(pdf_bytes)"
      ],
      "metadata": {
        "id": "mqFk-I-8-mzj"
      },
      "execution_count": 2,
      "outputs": []
    },
    {
      "cell_type": "code",
      "source": [
        "from PIL import Image\n",
        "import os\n",
        "\n",
        "# Decode PNG image to RGB pixels\n",
        "img = Image.open(\"pdf_encoded.png\")\n",
        "pixels = img.getdata()\n",
        "\n",
        "# Convert RGB pixels to bytes\n",
        "pdf_bytes = b\"\".join([bytes([pixel[0]]) for pixel in pixels])\n",
        "\n",
        "# Write bytes to PDF file\n",
        "with open(\"decoded.mp4\", \"wb\") as f:\n",
        "    f.write(pdf_bytes)\n"
      ],
      "metadata": {
        "id": "yXuEB77b_Jzc"
      },
      "execution_count": null,
      "outputs": []
    }
  ]
}